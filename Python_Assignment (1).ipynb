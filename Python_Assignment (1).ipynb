{
  "nbformat": 4,
  "nbformat_minor": 0,
  "metadata": {
    "colab": {
      "provenance": []
    },
    "kernelspec": {
      "name": "python3",
      "display_name": "Python 3"
    },
    "language_info": {
      "name": "python"
    }
  },
  "cells": [
    {
      "cell_type": "markdown",
      "source": [
        "# PYTHON PROGRAMMING ASSIGNMENT"
      ],
      "metadata": {
        "id": "nOCO5xIxDf4I"
      }
    },
    {
      "cell_type": "markdown",
      "source": [
        "## Exercise 1: Prime Numbers\n",
        "Write a Python program that checks whether a given number is prime or not. A prime number is a natural number greater than 1 that has no positive divisors other than 1 and itself.\n"
      ],
      "metadata": {
        "id": "sQ_PRM5nDnvR"
      }
    },
    {
      "cell_type": "code",
      "execution_count": 16,
      "metadata": {
        "colab": {
          "base_uri": "https://localhost:8080/"
        },
        "id": "K1SFRK9rDRi1",
        "outputId": "073639ee-7d16-4010-b05d-da54ab9acc1f"
      },
      "outputs": [
        {
          "output_type": "stream",
          "name": "stdout",
          "text": [
            "5 is a prime number.\n"
          ]
        }
      ],
      "source": [
        "num = 5                           # The number we want to check\n",
        "if num > 1:                       # Prime numbers must be greater than 1\n",
        "    for i in range(2, num):       # We loop from 2 up to the number before 'num'\n",
        "        if (num % i) == 0:         # Check if 'num' is divisible by any number 'i'\n",
        "            print(f\"{num} is not a prime number.\") # If it is divisible, it's not a prime number. We print the message and stop the loop.\n",
        "            break\n",
        "    else:\n",
        "        print(f\"{num} is a prime number.\") # If the loop finishes without finding any divisors, the number is prime.\n",
        "else:\n",
        "    print(f\"{num} is not a prime number.\") # If the number is 1 or less, it is not a prime number."
      ]
    },
    {
      "cell_type": "markdown",
      "source": [
        "## Exercise 2: Product of Random Numbers\n",
        "Develop a Python program that generates two random numbers and asks the user to enter the product of these numbers. The program should then check if the user's answer is correct and display an appropriate message."
      ],
      "metadata": {
        "id": "hiA-Oo8EERQq"
      }
    },
    {
      "cell_type": "code",
      "source": [
        "import random # Import the 'random' module to generate random numbers\n",
        "num1 = random.randint(1, 10) # Generate two random integers between 1 and 10\n",
        "num2 = random.randint(1, 10)\n",
        "product = num1 * num2\n",
        "answer = int(input(f\"What is the product of {num1} and {num2}? \")) # Ask the user for their answer. We convert the input string to an integer.\n",
        "if answer == product: # Check if the user's answer matches the correct product\n",
        "    print(\"Correct! Well done.\") # If the answer is correct, display a success message\n",
        "else:\n",
        "    print(f\"Sorry, that's not right. The correct answer was {product}.\") # If the answer is wrong, show the correct answer"
      ],
      "metadata": {
        "colab": {
          "base_uri": "https://localhost:8080/"
        },
        "id": "PbP8Ze4zEYXM",
        "outputId": "931cf805-56ff-4a44-fb4a-e5f7a70dd516"
      },
      "execution_count": 17,
      "outputs": [
        {
          "output_type": "stream",
          "name": "stdout",
          "text": [
            "What is the product of 6 and 1? 6\n",
            "Correct! Well done.\n"
          ]
        }
      ]
    },
    {
      "cell_type": "markdown",
      "source": [
        "# Exercise 3: Squares of Even/Odd Numbers\n",
        "Create a Python script that prints the squares of all even or odd numbers within the range of 100 to 200. Choose either even or odd numbers and document your choice in the code.\n"
      ],
      "metadata": {
        "id": "nMwgFwUfEj1K"
      }
    },
    {
      "cell_type": "code",
      "source": [
        "print(\"Squares of even numbers from 100 to 200:\") # We will calculate the squares for even numbers.\n",
        "for number in range(100, 201): # Loop through numbers from 100 to 200\n",
        "    if number % 2 == 0:    # Check if the number is even\n",
        "        square = number * number  # Calculate the square of the even number\n",
        "        print(f\"The square of {number} is {square}\") # Print the number and its square"
      ],
      "metadata": {
        "colab": {
          "base_uri": "https://localhost:8080/"
        },
        "id": "CxUsLiMsEefi",
        "outputId": "a3f62176-82fe-49de-f89e-4150c1831999"
      },
      "execution_count": 18,
      "outputs": [
        {
          "output_type": "stream",
          "name": "stdout",
          "text": [
            "Squares of even numbers from 100 to 200:\n",
            "The square of 100 is 10000\n",
            "The square of 102 is 10404\n",
            "The square of 104 is 10816\n",
            "The square of 106 is 11236\n",
            "The square of 108 is 11664\n",
            "The square of 110 is 12100\n",
            "The square of 112 is 12544\n",
            "The square of 114 is 12996\n",
            "The square of 116 is 13456\n",
            "The square of 118 is 13924\n",
            "The square of 120 is 14400\n",
            "The square of 122 is 14884\n",
            "The square of 124 is 15376\n",
            "The square of 126 is 15876\n",
            "The square of 128 is 16384\n",
            "The square of 130 is 16900\n",
            "The square of 132 is 17424\n",
            "The square of 134 is 17956\n",
            "The square of 136 is 18496\n",
            "The square of 138 is 19044\n",
            "The square of 140 is 19600\n",
            "The square of 142 is 20164\n",
            "The square of 144 is 20736\n",
            "The square of 146 is 21316\n",
            "The square of 148 is 21904\n",
            "The square of 150 is 22500\n",
            "The square of 152 is 23104\n",
            "The square of 154 is 23716\n",
            "The square of 156 is 24336\n",
            "The square of 158 is 24964\n",
            "The square of 160 is 25600\n",
            "The square of 162 is 26244\n",
            "The square of 164 is 26896\n",
            "The square of 166 is 27556\n",
            "The square of 168 is 28224\n",
            "The square of 170 is 28900\n",
            "The square of 172 is 29584\n",
            "The square of 174 is 30276\n",
            "The square of 176 is 30976\n",
            "The square of 178 is 31684\n",
            "The square of 180 is 32400\n",
            "The square of 182 is 33124\n",
            "The square of 184 is 33856\n",
            "The square of 186 is 34596\n",
            "The square of 188 is 35344\n",
            "The square of 190 is 36100\n",
            "The square of 192 is 36864\n",
            "The square of 194 is 37636\n",
            "The square of 196 is 38416\n",
            "The square of 198 is 39204\n",
            "The square of 200 is 40000\n"
          ]
        }
      ]
    },
    {
      "cell_type": "markdown",
      "source": [
        "# Exercise 4:\n",
        "✅ Problem Statement (Question): Hospital Billing System\n",
        "A hospital charges its patients based on the following:\n",
        "\n",
        "\n",
        "•\tRoom charges per day: ₹2,000\n",
        "\n",
        "\n",
        "•\tDoctor consultation fee (flat): ₹1,500\n",
        "\n",
        "\n",
        "•\tLab test charges: Based on the number of tests taken. Each test costs ₹300\n",
        "\n",
        "\n",
        "•\tMedicine charges: Total cost of medicines provided\n",
        "\n",
        "\n",
        "•\tDiscount: If the total bill (before discount) exceed\n",
        "\n",
        "s ₹10,000, a 10% discount is applied\n",
        "\n",
        "\n",
        "Write a Python program to calculate the final bill for a patient who:\n",
        "\n",
        "\n",
        "•\tStayed for 4 days\n",
        "\n",
        "\n",
        "•\tHad 3 lab tests\n",
        "\n",
        "\n",
        "•\tHad medicine charges of ₹2,400\n"
      ],
      "metadata": {
        "id": "A4KjKASyEuOj"
      }
    },
    {
      "cell_type": "code",
      "source": [
        "# --- Patient's Data ---\n",
        "days_stayed = 4\n",
        "num_lab_tests = 3\n",
        "medicine_cost = 2400\n",
        "\n",
        "# --- Hospital Charges ---\n",
        "room_charge_per_day = 2000\n",
        "doctor_fee = 1500\n",
        "lab_test_cost = 300\n",
        "\n",
        "# --- Bill Calculation ---\n",
        "total_room_charges = days_stayed * room_charge_per_day # Calculate total room charges\n",
        "total_lab_charges = num_lab_tests * lab_test_cost      # Calculate total lab charges\n",
        "total_bill = total_room_charges + doctor_fee + total_lab_charges + medicine_cost # Calculate the total bill before any discount\n",
        "\n",
        "print(f\"Total bill before discount: ruppee:{total_bill}\")\n",
        "# Check if a discount applies\n",
        "if total_bill > 10000:                   # A 10% discount is applied if the total bill is over ₹10,000\n",
        "    discount = total_bill * 0.10\n",
        "    final_bill = total_bill - discount\n",
        "    print(f\"A 10% discount of ruppee {discount:.2f} is applied.\")\n",
        "else:\n",
        "    final_bill = total_bill\n",
        "    print(\"No discount applied.\")\n",
        "print(f\"The final bill for the patient is: ruppee: {final_bill:}\") # Display the final bill"
      ],
      "metadata": {
        "colab": {
          "base_uri": "https://localhost:8080/"
        },
        "id": "Qiea7ktxEpec",
        "outputId": "44f14c3f-9e47-4d75-ca6d-a4fd60d6374d"
      },
      "execution_count": 28,
      "outputs": [
        {
          "output_type": "stream",
          "name": "stdout",
          "text": [
            "Total bill before discount: ruppee:12800\n",
            "A 10% discount of ruppee 1280.00 is applied.\n",
            "The final bill for the patient is: ruppee: 11520.0\n"
          ]
        }
      ]
    },
    {
      "cell_type": "code",
      "source": [],
      "metadata": {
        "id": "XN_nMRWzFC87"
      },
      "execution_count": 28,
      "outputs": []
    }
  ]
}